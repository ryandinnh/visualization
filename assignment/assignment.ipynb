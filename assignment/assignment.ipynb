{
 "cells": [
  {
   "cell_type": "markdown",
   "id": "13ad028b-72b7-43ed-aa78-96fd4e518040",
   "metadata": {
    "id": "13ad028b-72b7-43ed-aa78-96fd4e518040"
   },
   "source": [
    "# Assignment: Exploratory Data Analysis\n",
    "### `! git clone https://github.com/DS3001/visualization`\n",
    "### Do Q1 or Q2 or Q3, and Q4. You might want to refer to your work for the data wrangling assignment."
   ]
  },
  {
   "cell_type": "markdown",
   "id": "c11bcd96-2834-41a4-80fe-d354b4277fd9",
   "metadata": {
    "id": "c11bcd96-2834-41a4-80fe-d354b4277fd9"
   },
   "source": [
    "**Q1.** This question provides some practice doing exploratory data analysis and visualization.\n",
    "\n",
    "The \"relevant\" variables for this question are:\n",
    "  - `level` - Level of institution (4-year, 2-year)\n",
    "  - `aid_value` - The average amount of student aid going to undergraduate recipients\n",
    "  - `control` - Public, Private not-for-profit, Private for-profit\n",
    "  - `grad_100_value` - percentage of first-time, full-time, degree-seeking undergraduates who complete a degree or certificate program within 100 percent of expected time (bachelor's-seeking group at 4-year institutions)\n",
    "\n",
    "1. Load the `./data/college_completion.csv` data with Pandas."
   ]
  },
  {
   "cell_type": "code",
   "execution_count": 2,
   "id": "d316e597",
   "metadata": {},
   "outputs": [],
   "source": [
    "import numpy as np\n",
    "import pandas as pd\n",
    "\n",
    "df = pd.read_csv(\"./data/college_completion.csv\")"
   ]
  },
  {
   "cell_type": "markdown",
   "id": "3df78811",
   "metadata": {},
   "source": [
    "2. What are are the dimensions of the data? How many observations are there? What are the variables included? Use `.head()` to examine the first few rows of data."
   ]
  },
  {
   "cell_type": "code",
   "execution_count": 12,
   "id": "dcbfc9d0",
   "metadata": {},
   "outputs": [
    {
     "data": {
      "text/plain": [
       "(3798, 63)"
      ]
     },
     "execution_count": 12,
     "metadata": {},
     "output_type": "execute_result"
    }
   ],
   "source": [
    "#DIMENSIONS of the dataframe\n",
    "df.shape"
   ]
  },
  {
   "cell_type": "code",
   "execution_count": 15,
   "id": "a6fe78f1",
   "metadata": {},
   "outputs": [
    {
     "data": {
      "text/plain": [
       "Index(['index', 'unitid', 'chronname', 'city', 'state', 'level', 'control',\n",
       "       'basic', 'hbcu', 'flagship', 'long_x', 'lat_y', 'site', 'student_count',\n",
       "       'awards_per_value', 'awards_per_state_value', 'awards_per_natl_value',\n",
       "       'exp_award_value', 'exp_award_state_value', 'exp_award_natl_value',\n",
       "       'exp_award_percentile', 'ft_pct', 'fte_value', 'fte_percentile',\n",
       "       'med_sat_value', 'med_sat_percentile', 'aid_value', 'aid_percentile',\n",
       "       'endow_value', 'endow_percentile', 'grad_100_value',\n",
       "       'grad_100_percentile', 'grad_150_value', 'grad_150_percentile',\n",
       "       'pell_value', 'pell_percentile', 'retain_value', 'retain_percentile',\n",
       "       'ft_fac_value', 'ft_fac_percentile', 'vsa_year',\n",
       "       'vsa_grad_after4_first', 'vsa_grad_elsewhere_after4_first',\n",
       "       'vsa_enroll_after4_first', 'vsa_enroll_elsewhere_after4_first',\n",
       "       'vsa_grad_after6_first', 'vsa_grad_elsewhere_after6_first',\n",
       "       'vsa_enroll_after6_first', 'vsa_enroll_elsewhere_after6_first',\n",
       "       'vsa_grad_after4_transfer', 'vsa_grad_elsewhere_after4_transfer',\n",
       "       'vsa_enroll_after4_transfer', 'vsa_enroll_elsewhere_after4_transfer',\n",
       "       'vsa_grad_after6_transfer', 'vsa_grad_elsewhere_after6_transfer',\n",
       "       'vsa_enroll_after6_transfer', 'vsa_enroll_elsewhere_after6_transfer',\n",
       "       'similar', 'state_sector_ct', 'carnegie_ct', 'counted_pct', 'nicknames',\n",
       "       'cohort_size'],\n",
       "      dtype='object')"
      ]
     },
     "execution_count": 15,
     "metadata": {},
     "output_type": "execute_result"
    }
   ],
   "source": [
    "#variables included:\n",
    "df.columns"
   ]
  },
  {
   "cell_type": "code",
   "execution_count": 13,
   "id": "9e647178",
   "metadata": {},
   "outputs": [
    {
     "data": {
      "text/html": [
       "<div>\n",
       "<style scoped>\n",
       "    .dataframe tbody tr th:only-of-type {\n",
       "        vertical-align: middle;\n",
       "    }\n",
       "\n",
       "    .dataframe tbody tr th {\n",
       "        vertical-align: top;\n",
       "    }\n",
       "\n",
       "    .dataframe thead th {\n",
       "        text-align: right;\n",
       "    }\n",
       "</style>\n",
       "<table border=\"1\" class=\"dataframe\">\n",
       "  <thead>\n",
       "    <tr style=\"text-align: right;\">\n",
       "      <th></th>\n",
       "      <th>index</th>\n",
       "      <th>unitid</th>\n",
       "      <th>chronname</th>\n",
       "      <th>city</th>\n",
       "      <th>state</th>\n",
       "      <th>level</th>\n",
       "      <th>control</th>\n",
       "      <th>basic</th>\n",
       "      <th>hbcu</th>\n",
       "      <th>flagship</th>\n",
       "      <th>...</th>\n",
       "      <th>vsa_grad_after6_transfer</th>\n",
       "      <th>vsa_grad_elsewhere_after6_transfer</th>\n",
       "      <th>vsa_enroll_after6_transfer</th>\n",
       "      <th>vsa_enroll_elsewhere_after6_transfer</th>\n",
       "      <th>similar</th>\n",
       "      <th>state_sector_ct</th>\n",
       "      <th>carnegie_ct</th>\n",
       "      <th>counted_pct</th>\n",
       "      <th>nicknames</th>\n",
       "      <th>cohort_size</th>\n",
       "    </tr>\n",
       "  </thead>\n",
       "  <tbody>\n",
       "    <tr>\n",
       "      <th>0</th>\n",
       "      <td>0</td>\n",
       "      <td>100654</td>\n",
       "      <td>Alabama A&amp;M University</td>\n",
       "      <td>Normal</td>\n",
       "      <td>Alabama</td>\n",
       "      <td>4-year</td>\n",
       "      <td>Public</td>\n",
       "      <td>Masters Colleges and Universities--larger prog...</td>\n",
       "      <td>X</td>\n",
       "      <td>NaN</td>\n",
       "      <td>...</td>\n",
       "      <td>36.4</td>\n",
       "      <td>5.6</td>\n",
       "      <td>17.2</td>\n",
       "      <td>11.1</td>\n",
       "      <td>232937|100724|405997|113607|139533|144005|2285...</td>\n",
       "      <td>13</td>\n",
       "      <td>386</td>\n",
       "      <td>99.7|07</td>\n",
       "      <td>NaN</td>\n",
       "      <td>882.0</td>\n",
       "    </tr>\n",
       "    <tr>\n",
       "      <th>1</th>\n",
       "      <td>1</td>\n",
       "      <td>100663</td>\n",
       "      <td>University of Alabama at Birmingham</td>\n",
       "      <td>Birmingham</td>\n",
       "      <td>Alabama</td>\n",
       "      <td>4-year</td>\n",
       "      <td>Public</td>\n",
       "      <td>Research Universities--very high research acti...</td>\n",
       "      <td>NaN</td>\n",
       "      <td>NaN</td>\n",
       "      <td>...</td>\n",
       "      <td>NaN</td>\n",
       "      <td>NaN</td>\n",
       "      <td>NaN</td>\n",
       "      <td>NaN</td>\n",
       "      <td>196060|180461|201885|145600|209542|236939|1268...</td>\n",
       "      <td>13</td>\n",
       "      <td>106</td>\n",
       "      <td>56.0|07</td>\n",
       "      <td>UAB</td>\n",
       "      <td>1376.0</td>\n",
       "    </tr>\n",
       "    <tr>\n",
       "      <th>2</th>\n",
       "      <td>2</td>\n",
       "      <td>100690</td>\n",
       "      <td>Amridge University</td>\n",
       "      <td>Montgomery</td>\n",
       "      <td>Alabama</td>\n",
       "      <td>4-year</td>\n",
       "      <td>Private not-for-profit</td>\n",
       "      <td>Baccalaureate Colleges--Arts &amp; Sciences</td>\n",
       "      <td>NaN</td>\n",
       "      <td>NaN</td>\n",
       "      <td>...</td>\n",
       "      <td>NaN</td>\n",
       "      <td>NaN</td>\n",
       "      <td>NaN</td>\n",
       "      <td>NaN</td>\n",
       "      <td>217925|441511|205124|247825|197647|221856|1353...</td>\n",
       "      <td>16</td>\n",
       "      <td>252</td>\n",
       "      <td>100.0|07</td>\n",
       "      <td>NaN</td>\n",
       "      <td>3.0</td>\n",
       "    </tr>\n",
       "    <tr>\n",
       "      <th>3</th>\n",
       "      <td>3</td>\n",
       "      <td>100706</td>\n",
       "      <td>University of Alabama at Huntsville</td>\n",
       "      <td>Huntsville</td>\n",
       "      <td>Alabama</td>\n",
       "      <td>4-year</td>\n",
       "      <td>Public</td>\n",
       "      <td>Research Universities--very high research acti...</td>\n",
       "      <td>NaN</td>\n",
       "      <td>NaN</td>\n",
       "      <td>...</td>\n",
       "      <td>0.0</td>\n",
       "      <td>0.0</td>\n",
       "      <td>0.0</td>\n",
       "      <td>0.0</td>\n",
       "      <td>232186|133881|196103|196413|207388|171128|1900...</td>\n",
       "      <td>13</td>\n",
       "      <td>106</td>\n",
       "      <td>43.1|07</td>\n",
       "      <td>UAH</td>\n",
       "      <td>759.0</td>\n",
       "    </tr>\n",
       "    <tr>\n",
       "      <th>4</th>\n",
       "      <td>4</td>\n",
       "      <td>100724</td>\n",
       "      <td>Alabama State University</td>\n",
       "      <td>Montgomery</td>\n",
       "      <td>Alabama</td>\n",
       "      <td>4-year</td>\n",
       "      <td>Public</td>\n",
       "      <td>Masters Colleges and Universities--larger prog...</td>\n",
       "      <td>X</td>\n",
       "      <td>NaN</td>\n",
       "      <td>...</td>\n",
       "      <td>NaN</td>\n",
       "      <td>NaN</td>\n",
       "      <td>NaN</td>\n",
       "      <td>NaN</td>\n",
       "      <td>100654|232937|242617|243197|144005|241739|2354...</td>\n",
       "      <td>13</td>\n",
       "      <td>386</td>\n",
       "      <td>88.0|07</td>\n",
       "      <td>ASU</td>\n",
       "      <td>1351.0</td>\n",
       "    </tr>\n",
       "  </tbody>\n",
       "</table>\n",
       "<p>5 rows × 63 columns</p>\n",
       "</div>"
      ],
      "text/plain": [
       "   index  unitid                            chronname        city    state  \\\n",
       "0      0  100654               Alabama A&M University      Normal  Alabama   \n",
       "1      1  100663  University of Alabama at Birmingham  Birmingham  Alabama   \n",
       "2      2  100690                   Amridge University  Montgomery  Alabama   \n",
       "3      3  100706  University of Alabama at Huntsville  Huntsville  Alabama   \n",
       "4      4  100724             Alabama State University  Montgomery  Alabama   \n",
       "\n",
       "    level                 control  \\\n",
       "0  4-year                  Public   \n",
       "1  4-year                  Public   \n",
       "2  4-year  Private not-for-profit   \n",
       "3  4-year                  Public   \n",
       "4  4-year                  Public   \n",
       "\n",
       "                                               basic hbcu flagship  ...  \\\n",
       "0  Masters Colleges and Universities--larger prog...    X      NaN  ...   \n",
       "1  Research Universities--very high research acti...  NaN      NaN  ...   \n",
       "2            Baccalaureate Colleges--Arts & Sciences  NaN      NaN  ...   \n",
       "3  Research Universities--very high research acti...  NaN      NaN  ...   \n",
       "4  Masters Colleges and Universities--larger prog...    X      NaN  ...   \n",
       "\n",
       "   vsa_grad_after6_transfer  vsa_grad_elsewhere_after6_transfer  \\\n",
       "0                      36.4                                 5.6   \n",
       "1                       NaN                                 NaN   \n",
       "2                       NaN                                 NaN   \n",
       "3                       0.0                                 0.0   \n",
       "4                       NaN                                 NaN   \n",
       "\n",
       "  vsa_enroll_after6_transfer  vsa_enroll_elsewhere_after6_transfer  \\\n",
       "0                       17.2                                  11.1   \n",
       "1                        NaN                                   NaN   \n",
       "2                        NaN                                   NaN   \n",
       "3                        0.0                                   0.0   \n",
       "4                        NaN                                   NaN   \n",
       "\n",
       "                                             similar  state_sector_ct  \\\n",
       "0  232937|100724|405997|113607|139533|144005|2285...               13   \n",
       "1  196060|180461|201885|145600|209542|236939|1268...               13   \n",
       "2  217925|441511|205124|247825|197647|221856|1353...               16   \n",
       "3  232186|133881|196103|196413|207388|171128|1900...               13   \n",
       "4  100654|232937|242617|243197|144005|241739|2354...               13   \n",
       "\n",
       "   carnegie_ct  counted_pct  nicknames  cohort_size  \n",
       "0          386      99.7|07        NaN        882.0  \n",
       "1          106      56.0|07        UAB       1376.0  \n",
       "2          252     100.0|07        NaN          3.0  \n",
       "3          106      43.1|07        UAH        759.0  \n",
       "4          386      88.0|07        ASU       1351.0  \n",
       "\n",
       "[5 rows x 63 columns]"
      ]
     },
     "execution_count": 13,
     "metadata": {},
     "output_type": "execute_result"
    }
   ],
   "source": [
    "#examing first rows of the data frame\n",
    "df.head()"
   ]
  },
  {
   "cell_type": "markdown",
   "id": "2d6b7aaf",
   "metadata": {},
   "source": [
    "*The dimensions of the data are 3798 x 63. There are 3798 observation and 63 variables. The 63 variables are also printed above.*"
   ]
  },
  {
   "cell_type": "markdown",
   "id": "15533c9c",
   "metadata": {},
   "source": [
    "3. Cross tabulate `control` and `level`. Describe the patterns you see."
   ]
  },
  {
   "cell_type": "code",
   "execution_count": 16,
   "id": "42abf10f",
   "metadata": {},
   "outputs": [
    {
     "data": {
      "text/html": [
       "<div>\n",
       "<style scoped>\n",
       "    .dataframe tbody tr th:only-of-type {\n",
       "        vertical-align: middle;\n",
       "    }\n",
       "\n",
       "    .dataframe tbody tr th {\n",
       "        vertical-align: top;\n",
       "    }\n",
       "\n",
       "    .dataframe thead th {\n",
       "        text-align: right;\n",
       "    }\n",
       "</style>\n",
       "<table border=\"1\" class=\"dataframe\">\n",
       "  <thead>\n",
       "    <tr style=\"text-align: right;\">\n",
       "      <th>level</th>\n",
       "      <th>2-year</th>\n",
       "      <th>4-year</th>\n",
       "    </tr>\n",
       "    <tr>\n",
       "      <th>control</th>\n",
       "      <th></th>\n",
       "      <th></th>\n",
       "    </tr>\n",
       "  </thead>\n",
       "  <tbody>\n",
       "    <tr>\n",
       "      <th>Private for-profit</th>\n",
       "      <td>465</td>\n",
       "      <td>527</td>\n",
       "    </tr>\n",
       "    <tr>\n",
       "      <th>Private not-for-profit</th>\n",
       "      <td>68</td>\n",
       "      <td>1180</td>\n",
       "    </tr>\n",
       "    <tr>\n",
       "      <th>Public</th>\n",
       "      <td>926</td>\n",
       "      <td>632</td>\n",
       "    </tr>\n",
       "  </tbody>\n",
       "</table>\n",
       "</div>"
      ],
      "text/plain": [
       "level                   2-year  4-year\n",
       "control                               \n",
       "Private for-profit         465     527\n",
       "Private not-for-profit      68    1180\n",
       "Public                     926     632"
      ]
     },
     "execution_count": 16,
     "metadata": {},
     "output_type": "execute_result"
    }
   ],
   "source": [
    "control = df['control']\n",
    "level = df['level']\n",
    "\n",
    "pd.crosstab(control, level)"
   ]
  },
  {
   "cell_type": "markdown",
   "id": "d4d21f73",
   "metadata": {},
   "source": [
    "*Patterns seen are*"
   ]
  },
  {
   "cell_type": "markdown",
   "id": "1c0a430f",
   "metadata": {},
   "source": [
    "4. For `grad_100_value`, create a histogram, kernel density plot, boxplot, and statistical description.\n",
    "5. For `grad_100_value`, create a grouped kernel density plot by `control` and by `level`. Describe what you see. Use `groupby` and `.describe` to make grouped calculations of statistical descriptions of `grad_100_value` by `level` and `control`. Which institutions appear to have the best graduation rates?\n",
    "6. Create a new variable, `df['levelXcontrol']=df['level']+', '+df['control']` that interacts level and control. Make a grouped kernel density plot. Which institutions appear to have the best graduation rates?\n",
    "7. Make a kernel density plot of `aid_value`. Now group your graph by `level` and `control`. What explains the shape of the graph? Use `groupby` and `.describe` to make grouped calculations of statistical descriptions of `aid_value` by `level` and `control`.\n",
    "8. Make a scatterplot of `grad_100_value` by `aid_value`. Describe what you see. Now make the same plot, grouping by `level` and then `control`. Describe what you see. For which kinds of institutions does aid seem to increase graduation rates?"
   ]
  },
  {
   "cell_type": "markdown",
   "id": "98d34a3b-c21d-4dc9-a8d2-fb7686804ceb",
   "metadata": {
    "id": "98d34a3b-c21d-4dc9-a8d2-fb7686804ceb"
   },
   "source": [
    "**Q2.** This question uses the Airbnb data to practice making visualizations.\n",
    "\n",
    "  1. Load the `./data/airbnb_hw.csv` data with Pandas. You should have cleaned the `Price` variable in question 2, and you'll need it later for this question.\n",
    "  2. What are are the dimensions of the data? How many observations are there? What are the variables included? Use `.head()` to examine the first few rows of data.\n",
    "  3. Cross tabulate `Room Type` and `Property Type`. What patterns do you see in what kinds of rentals are available? For which kinds of properties are private rooms more common than renting the entire property?\n",
    "  4. For `Price`, make a histogram, kernel density, box plot, and a statistical description of the variable. Are the data badly scaled? Are there many outliers? Use `log` to transform price into a new variable, `price_log`, and take these steps again.\n",
    "  5. Make a scatterplot of `price_log` and `Beds`. Describe what you see. Use `.groupby()` to compute a desciption of `Price` conditional on/grouped by the number of beds. Describe any patterns you see in the average price and standard deviation in prices.\n",
    "  6. Make a scatterplot of `price_log` and `Beds`, but color the graph by `Room Type` and `Property Type`. What patterns do you see? Compute a description of `Price` conditional on `Room Type` and `Property Type`. Which Room Type and Property Type have the highest prices on average? Which have the highest standard deviation? Does the mean or median appear to be a more reliable estimate of central tendency, and explain why?\n",
    "  7. We've looked a bit at this `price_log` and `Beds` scatterplot. Use seaborn to make a `jointplot` with `kind=hex`. Where are the data actually distributed? How does it affect the way you think about the plots in 5 and 6?"
   ]
  },
  {
   "cell_type": "markdown",
   "id": "2f38f2fd-6381-481d-bba9-017f3d363426",
   "metadata": {
    "id": "2f38f2fd-6381-481d-bba9-017f3d363426"
   },
   "source": [
    "**Q3.** Open the `./data/CBO_data.pdf` file. This contains tax data for 2019, explaining where the money comes from that the U.S. Federal Government Spends in terms of taxation on individuals/families and payroll taxes (the amount that your employer pays in taxes on your wages).\n",
    "\n",
    "For some context, the Federal government ultimately spent about $4.4 trillion in 2019, which was 21% of GDP (the total monetary value of all goods and services produced within the United States). Individual Income Taxes is the amount individuals pay on their wages to the Federal government, Corporate Income Taxes is the taxes individuals pay on capital gains from investment when they sell stock or other financial instruments, Payroll Taxes is the tax your employer pays on your wages, Excises and Customs Duties are taxes on goods or services like sin taxes on cigarettes or alcohol, and Estate and Gift Taxes are taxes paid on transfers of wealth to other people.\n",
    "\n",
    "1. Get the Millions of Families and Billions of Dollars data into a .csv file and load it with Pandas.\n",
    "2. Create a bar plot of individual income taxes by income decile. Explain what the graph shows. Why are some values negative?\n",
    "3. Create a bar plot of Total Federal Taxes by income decile. Which deciles are paying net positive amounts, and which are paying net negative amounts?\n",
    "4. Create a stacked bar plot for which Total Federal Taxes is grouped by Individual Income Taxes, Payroll Taxes, Excises and Customs Duties, and Estate and Gift Taxes. How does the share of taxes paid vary across the adjusted income deciles? (Hint: Are these the kind of data you want to melt?)\n",
    "5. Below the Total line for Millions of Families and Billions of Dollars, there are data for the richest of the richest families. Plot this alongside the bars for the deciles above the Total line. Describe your results.\n",
    "6. Get the Percent Distribution data into a .csv file and load it with Pandas. Create a bar graph of Total Federal Taxes by income decile.\n",
    "7. A tax system is progressive if higher-income and wealthier individuals pay more than lower-income and less wealthy individuals, and it is regressive if the opposite is true. Is the U.S. tax system progressive in terms of amount paid? In terms of the percentage of the overall total?\n",
    "8. Do the rich pay enough in taxes? Defend your answer."
   ]
  },
  {
   "cell_type": "markdown",
   "id": "55e54a37-63fb-4df9-af65-81ee53ae00fe",
   "metadata": {},
   "source": [
    "**Q4.** Go to https://data.cms.gov/search.\n",
    "1. Pick a dataset about something you are interested in. Download the data and data dictionary. If you really can't decide, you can always use this one: https://data.cms.gov/medicare-current-beneficiary-survey-mcbs/medicare-current-beneficiary-survey-data\n",
    "3. Does the data dictionary document how missings are handled? For categorical variables, does it describe the possible values and missing value codes? For the numeric variables, does it describe how missing values are handled? Summarize your opinion of the data dictionary.\n",
    "4. Pick out a few interesting variables, and explain why you find them jointly interesting. Clean those variables, documenting your choices by commenting in the code or in a markdown chunk in a notebook.\n",
    "5. For the variables you select, make a boxplot for each numeric variable and a bar graph for each categorical variable. Do you see any outliers?\n",
    "6. Create a histogram or kernel density plot, and explain what you see. Do the results require any transformations to rescale them? \n",
    "7. Create a scatter plot, and describe the relationship you see.\n",
    "8. Create a table (cross tabulation, variance-covariance, or a `.describe()` five-number summary), and explain what you see."
   ]
  }
 ],
 "metadata": {
  "colab": {
   "provenance": []
  },
  "kernelspec": {
   "display_name": "Python 3 (ipykernel)",
   "language": "python",
   "name": "python3"
  },
  "language_info": {
   "codemirror_mode": {
    "name": "ipython",
    "version": 3
   },
   "file_extension": ".py",
   "mimetype": "text/x-python",
   "name": "python",
   "nbconvert_exporter": "python",
   "pygments_lexer": "ipython3",
   "version": "3.11.8"
  }
 },
 "nbformat": 4,
 "nbformat_minor": 5
}
